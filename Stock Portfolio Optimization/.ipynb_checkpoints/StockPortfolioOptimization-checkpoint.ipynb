{
 "cells": [
  {
   "cell_type": "code",
   "execution_count": null,
   "metadata": {},
   "outputs": [],
   "source": [
    "##Description\n",
    "# Project Goal: Portfolio method that will be useful to the average investor who does not have enough time nor the skills necessary to fully study the market and how it works.\n"
   ]
  },
  {
   "cell_type": "code",
   "execution_count": 1,
   "metadata": {
    "collapsed": true
   },
   "outputs": [],
   "source": [
    "import pandas as pd\n",
    "import numpy as np\n",
    "import matplotlib.pyplot as plt\n",
    "from numpy import array, linspace\n",
    "from sklearn.neighbors.kde import KernelDensity\n",
    "from scipy.signal import argrelextrema\n",
    "\n",
    "plt.style.use('fivethirtyeight')\n",
    "%matplotlib inline\n",
    "%config InlineBackend.figure_format = 'retina'"
   ]
  },
  {
   "cell_type": "markdown",
   "metadata": {},
   "source": [
    "# Data Preprocessing"
   ]
  },
  {
   "cell_type": "code",
   "execution_count": 2,
   "metadata": {
    "collapsed": true
   },
   "outputs": [],
   "source": [
    "# Read in the S&P500 Index daily prices\n",
    "spy = pd.read_csv(\"./SP500.csv\")\n",
    "\n",
    "# Read in the data for the daily split adjusted price for every stock in the S&P500 since 2010\n",
    "sp500 = pd.read_csv(\"./prices-split-adjusted.csv\")"
   ]
  },
  {
   "cell_type": "code",
   "execution_count": 3,
   "metadata": {},
   "outputs": [
    {
     "data": {
      "text/html": [
       "<div>\n",
       "<style>\n",
       "    .dataframe thead tr:only-child th {\n",
       "        text-align: right;\n",
       "    }\n",
       "\n",
       "    .dataframe thead th {\n",
       "        text-align: left;\n",
       "    }\n",
       "\n",
       "    .dataframe tbody tr th {\n",
       "        vertical-align: top;\n",
       "    }\n",
       "</style>\n",
       "<table border=\"1\" class=\"dataframe\">\n",
       "  <thead>\n",
       "    <tr style=\"text-align: right;\">\n",
       "      <th></th>\n",
       "      <th>DATE</th>\n",
       "      <th>SP500</th>\n",
       "    </tr>\n",
       "  </thead>\n",
       "  <tbody>\n",
       "    <tr>\n",
       "      <th>0</th>\n",
       "      <td>2013-03-22</td>\n",
       "      <td>1556.89</td>\n",
       "    </tr>\n",
       "    <tr>\n",
       "      <th>1</th>\n",
       "      <td>2013-03-25</td>\n",
       "      <td>1551.69</td>\n",
       "    </tr>\n",
       "    <tr>\n",
       "      <th>2</th>\n",
       "      <td>2013-03-26</td>\n",
       "      <td>1563.77</td>\n",
       "    </tr>\n",
       "    <tr>\n",
       "      <th>3</th>\n",
       "      <td>2013-03-27</td>\n",
       "      <td>1562.85</td>\n",
       "    </tr>\n",
       "    <tr>\n",
       "      <th>4</th>\n",
       "      <td>2013-03-28</td>\n",
       "      <td>1569.19</td>\n",
       "    </tr>\n",
       "  </tbody>\n",
       "</table>\n",
       "</div>"
      ],
      "text/plain": [
       "         DATE    SP500\n",
       "0  2013-03-22  1556.89\n",
       "1  2013-03-25  1551.69\n",
       "2  2013-03-26  1563.77\n",
       "3  2013-03-27  1562.85\n",
       "4  2013-03-28  1569.19"
      ]
     },
     "execution_count": 3,
     "metadata": {},
     "output_type": "execute_result"
    }
   ],
   "source": [
    "spy.head()"
   ]
  },
  {
   "cell_type": "code",
   "execution_count": 4,
   "metadata": {},
   "outputs": [
    {
     "name": "stdout",
     "output_type": "stream",
     "text": [
      "2013\n",
      "2018\n",
      "3\n"
     ]
    }
   ],
   "source": [
    "print(min(pd.DatetimeIndex(spy['DATE']).year))\n",
    "print(max(pd.DatetimeIndex(spy['DATE']).year))\n",
    "spy13 = spy[pd.DatetimeIndex(spy['DATE']).year == 2013]\n",
    "print(min(pd.DatetimeIndex(spy13['DATE']).month))"
   ]
  },
  {
   "cell_type": "code",
   "execution_count": 5,
   "metadata": {},
   "outputs": [
    {
     "data": {
      "text/html": [
       "<div>\n",
       "<style>\n",
       "    .dataframe thead tr:only-child th {\n",
       "        text-align: right;\n",
       "    }\n",
       "\n",
       "    .dataframe thead th {\n",
       "        text-align: left;\n",
       "    }\n",
       "\n",
       "    .dataframe tbody tr th {\n",
       "        vertical-align: top;\n",
       "    }\n",
       "</style>\n",
       "<table border=\"1\" class=\"dataframe\">\n",
       "  <thead>\n",
       "    <tr style=\"text-align: right;\">\n",
       "      <th></th>\n",
       "      <th>date</th>\n",
       "      <th>symbol</th>\n",
       "      <th>open</th>\n",
       "      <th>close</th>\n",
       "      <th>low</th>\n",
       "      <th>high</th>\n",
       "      <th>volume</th>\n",
       "    </tr>\n",
       "  </thead>\n",
       "  <tbody>\n",
       "    <tr>\n",
       "      <th>0</th>\n",
       "      <td>2016-01-05</td>\n",
       "      <td>WLTW</td>\n",
       "      <td>123.430000</td>\n",
       "      <td>125.839996</td>\n",
       "      <td>122.309998</td>\n",
       "      <td>126.250000</td>\n",
       "      <td>2163600.0</td>\n",
       "    </tr>\n",
       "    <tr>\n",
       "      <th>1</th>\n",
       "      <td>2016-01-06</td>\n",
       "      <td>WLTW</td>\n",
       "      <td>125.239998</td>\n",
       "      <td>119.980003</td>\n",
       "      <td>119.940002</td>\n",
       "      <td>125.540001</td>\n",
       "      <td>2386400.0</td>\n",
       "    </tr>\n",
       "    <tr>\n",
       "      <th>2</th>\n",
       "      <td>2016-01-07</td>\n",
       "      <td>WLTW</td>\n",
       "      <td>116.379997</td>\n",
       "      <td>114.949997</td>\n",
       "      <td>114.930000</td>\n",
       "      <td>119.739998</td>\n",
       "      <td>2489500.0</td>\n",
       "    </tr>\n",
       "    <tr>\n",
       "      <th>3</th>\n",
       "      <td>2016-01-08</td>\n",
       "      <td>WLTW</td>\n",
       "      <td>115.480003</td>\n",
       "      <td>116.620003</td>\n",
       "      <td>113.500000</td>\n",
       "      <td>117.440002</td>\n",
       "      <td>2006300.0</td>\n",
       "    </tr>\n",
       "    <tr>\n",
       "      <th>4</th>\n",
       "      <td>2016-01-11</td>\n",
       "      <td>WLTW</td>\n",
       "      <td>117.010002</td>\n",
       "      <td>114.970001</td>\n",
       "      <td>114.089996</td>\n",
       "      <td>117.330002</td>\n",
       "      <td>1408600.0</td>\n",
       "    </tr>\n",
       "  </tbody>\n",
       "</table>\n",
       "</div>"
      ],
      "text/plain": [
       "         date symbol        open       close         low        high  \\\n",
       "0  2016-01-05   WLTW  123.430000  125.839996  122.309998  126.250000   \n",
       "1  2016-01-06   WLTW  125.239998  119.980003  119.940002  125.540001   \n",
       "2  2016-01-07   WLTW  116.379997  114.949997  114.930000  119.739998   \n",
       "3  2016-01-08   WLTW  115.480003  116.620003  113.500000  117.440002   \n",
       "4  2016-01-11   WLTW  117.010002  114.970001  114.089996  117.330002   \n",
       "\n",
       "      volume  \n",
       "0  2163600.0  \n",
       "1  2386400.0  \n",
       "2  2489500.0  \n",
       "3  2006300.0  \n",
       "4  1408600.0  "
      ]
     },
     "execution_count": 5,
     "metadata": {},
     "output_type": "execute_result"
    }
   ],
   "source": [
    "sp500.head()"
   ]
  },
  {
   "cell_type": "code",
   "execution_count": 6,
   "metadata": {},
   "outputs": [
    {
     "name": "stdout",
     "output_type": "stream",
     "text": [
      "2016\n",
      "12\n",
      "1\n"
     ]
    }
   ],
   "source": [
    "print(max(pd.DatetimeIndex(sp500['date']).year))\n",
    "sp16  = sp500[pd.DatetimeIndex(sp500['date']).year == 2016]\n",
    "print(max(pd.DatetimeIndex(sp16['date']).month))\n",
    "sp13  = sp500[pd.DatetimeIndex(sp500['date']).year == 2013]\n",
    "print(min(pd.DatetimeIndex(sp13['date']).month))"
   ]
  },
  {
   "cell_type": "code",
   "execution_count": 7,
   "metadata": {
    "collapsed": true
   },
   "outputs": [],
   "source": [
    "spy = spy[((pd.DatetimeIndex(spy['DATE']).year > 2013) | ((pd.DatetimeIndex(spy['DATE']).month > 3) & (pd.DatetimeIndex(spy['DATE']).year == 2013))) & (pd.DatetimeIndex(spy['DATE']).year < 2017)]\n",
    "sp500 = sp500[(pd.DatetimeIndex(sp500['date']).year > 2013) | ((pd.DatetimeIndex(sp500['date']).year == 2013) & (pd.DatetimeIndex(sp500['date']).month > 3))]"
   ]
  },
  {
   "cell_type": "code",
   "execution_count": 8,
   "metadata": {},
   "outputs": [
    {
     "data": {
      "text/plain": [
       "{2013, 2014, 2015, 2016}"
      ]
     },
     "execution_count": 8,
     "metadata": {},
     "output_type": "execute_result"
    }
   ],
   "source": [
    "set(pd.DatetimeIndex(spy['DATE']).year)"
   ]
  },
  {
   "cell_type": "code",
   "execution_count": 9,
   "metadata": {},
   "outputs": [
    {
     "data": {
      "text/plain": [
       "{2013, 2014, 2015, 2016}"
      ]
     },
     "execution_count": 9,
     "metadata": {},
     "output_type": "execute_result"
    }
   ],
   "source": [
    "set(pd.DatetimeIndex(sp500['date']).year)"
   ]
  },
  {
   "cell_type": "code",
   "execution_count": 10,
   "metadata": {},
   "outputs": [
    {
     "data": {
      "text/html": [
       "<div>\n",
       "<style>\n",
       "    .dataframe thead tr:only-child th {\n",
       "        text-align: right;\n",
       "    }\n",
       "\n",
       "    .dataframe thead th {\n",
       "        text-align: left;\n",
       "    }\n",
       "\n",
       "    .dataframe tbody tr th {\n",
       "        vertical-align: top;\n",
       "    }\n",
       "</style>\n",
       "<table border=\"1\" class=\"dataframe\">\n",
       "  <thead>\n",
       "    <tr style=\"text-align: right;\">\n",
       "      <th></th>\n",
       "      <th>symbol</th>\n",
       "      <th>close</th>\n",
       "    </tr>\n",
       "    <tr>\n",
       "      <th>date</th>\n",
       "      <th></th>\n",
       "      <th></th>\n",
       "    </tr>\n",
       "  </thead>\n",
       "  <tbody>\n",
       "    <tr>\n",
       "      <th>2016-01-05</th>\n",
       "      <td>WLTW</td>\n",
       "      <td>125.839996</td>\n",
       "    </tr>\n",
       "    <tr>\n",
       "      <th>2016-01-06</th>\n",
       "      <td>WLTW</td>\n",
       "      <td>119.980003</td>\n",
       "    </tr>\n",
       "    <tr>\n",
       "      <th>2016-01-07</th>\n",
       "      <td>WLTW</td>\n",
       "      <td>114.949997</td>\n",
       "    </tr>\n",
       "    <tr>\n",
       "      <th>2016-01-08</th>\n",
       "      <td>WLTW</td>\n",
       "      <td>116.620003</td>\n",
       "    </tr>\n",
       "    <tr>\n",
       "      <th>2016-01-11</th>\n",
       "      <td>WLTW</td>\n",
       "      <td>114.970001</td>\n",
       "    </tr>\n",
       "  </tbody>\n",
       "</table>\n",
       "</div>"
      ],
      "text/plain": [
       "           symbol       close\n",
       "date                         \n",
       "2016-01-05   WLTW  125.839996\n",
       "2016-01-06   WLTW  119.980003\n",
       "2016-01-07   WLTW  114.949997\n",
       "2016-01-08   WLTW  116.620003\n",
       "2016-01-11   WLTW  114.970001"
      ]
     },
     "execution_count": 10,
     "metadata": {},
     "output_type": "execute_result"
    }
   ],
   "source": [
    "sp500.drop(['open', 'low', 'high', 'volume'], inplace = True, axis = 1)\n",
    "sp500 = sp500.set_index('date')\n",
    "sp500.head()"
   ]
  },
  {
   "cell_type": "code",
   "execution_count": 11,
   "metadata": {},
   "outputs": [
    {
     "data": {
      "text/html": [
       "<div>\n",
       "<style>\n",
       "    .dataframe thead tr:only-child th {\n",
       "        text-align: right;\n",
       "    }\n",
       "\n",
       "    .dataframe thead th {\n",
       "        text-align: left;\n",
       "    }\n",
       "\n",
       "    .dataframe tbody tr th {\n",
       "        vertical-align: top;\n",
       "    }\n",
       "</style>\n",
       "<table border=\"1\" class=\"dataframe\">\n",
       "  <thead>\n",
       "    <tr style=\"text-align: right;\">\n",
       "      <th></th>\n",
       "      <th>SP500</th>\n",
       "    </tr>\n",
       "    <tr>\n",
       "      <th>DATE</th>\n",
       "      <th></th>\n",
       "    </tr>\n",
       "  </thead>\n",
       "  <tbody>\n",
       "    <tr>\n",
       "      <th>2013-04-01</th>\n",
       "      <td>1562.17</td>\n",
       "    </tr>\n",
       "    <tr>\n",
       "      <th>2013-04-02</th>\n",
       "      <td>1570.25</td>\n",
       "    </tr>\n",
       "    <tr>\n",
       "      <th>2013-04-03</th>\n",
       "      <td>1553.69</td>\n",
       "    </tr>\n",
       "    <tr>\n",
       "      <th>2013-04-04</th>\n",
       "      <td>1559.98</td>\n",
       "    </tr>\n",
       "    <tr>\n",
       "      <th>2013-04-05</th>\n",
       "      <td>1553.28</td>\n",
       "    </tr>\n",
       "  </tbody>\n",
       "</table>\n",
       "</div>"
      ],
      "text/plain": [
       "              SP500\n",
       "DATE               \n",
       "2013-04-01  1562.17\n",
       "2013-04-02  1570.25\n",
       "2013-04-03  1553.69\n",
       "2013-04-04  1559.98\n",
       "2013-04-05  1553.28"
      ]
     },
     "execution_count": 11,
     "metadata": {},
     "output_type": "execute_result"
    }
   ],
   "source": [
    "spy = spy.set_index('DATE')\n",
    "spy = spy[spy[\"SP500\"] != '.']\n",
    "spy['SP500'] = pd.to_numeric(spy['SP500'])\n",
    "spy.head()"
   ]
  },
  {
   "cell_type": "markdown",
   "metadata": {},
   "source": [
    "# Functions"
   ]
  },
  {
   "cell_type": "code",
   "execution_count": 12,
   "metadata": {
    "collapsed": true
   },
   "outputs": [],
   "source": [
    "def RSS_trend(nums):\n",
    "    rise = (nums[-1] - nums[0])/len(nums)\n",
    "    rss = 0\n",
    "    for i in range(0,len(nums)):\n",
    "        rss = (nums[i] - (nums[0] + i*rise))**2\n",
    "    rss = rss/len(nums)\n",
    "    return rss\n",
    "\n",
    "def ratio(prices):\n",
    "    error = RSS_trend(prices)\n",
    "    return (((((prices[-1] - prices[0])/prices[0])*100)-2.2)/error)\n",
    "\n",
    "def KDE_cluster(df):\n",
    "    kde = KernelDensity(kernel='gaussian', bandwidth=3).fit(df['ratio'])\n",
    "    s = linspace(0,max(df['ratio']))\n",
    "    e = kde.score_samples(s.reshape(-1,1))\n",
    "    # plot(s, e)\n",
    "    minimum = s[argrelextrema(e, np.less)[0]] #?\n",
    "    "
   ]
  },
  {
   "cell_type": "code",
   "execution_count": 20,
   "metadata": {},
   "outputs": [],
   "source": [
    "sp13q1 = sp500[(pd.DatetimeIndex(sp500.index.values).year == 2013) & ((pd.DatetimeIndex(sp500.index.values).month == 4) | (pd.DatetimeIndex(sp500.index.values).month == 5) | (pd.DatetimeIndex(sp500.index.values).month == 6))]"
   ]
  },
  {
   "cell_type": "code",
   "execution_count": null,
   "metadata": {
    "collapsed": true
   },
   "outputs": [],
   "source": [
    "# Create a dictionary with ticker symbol as key and modified sharpe ratio as value\n",
    "    vals = {key: 0 for key in list(df.columns.values)}\n",
    "    for name in list(df.columns.values):\n",
    "        vals[name] = ratio(list(df[name]))\n",
    "    \n",
    "    # Coerce Dictionary to dataframe\n",
    "    stocks = pd.DataFrame(list(vals.items()), columns = ['ticker', 'ratio'])\n",
    "    stocks.sort_values(by=['ratio'], inplace = True, ascending = False)"
   ]
  },
  {
   "cell_type": "code",
   "execution_count": 22,
   "metadata": {},
   "outputs": [
    {
     "data": {
      "text/html": [
       "<div>\n",
       "<style>\n",
       "    .dataframe thead tr:only-child th {\n",
       "        text-align: right;\n",
       "    }\n",
       "\n",
       "    .dataframe thead th {\n",
       "        text-align: left;\n",
       "    }\n",
       "\n",
       "    .dataframe tbody tr th {\n",
       "        vertical-align: top;\n",
       "    }\n",
       "</style>\n",
       "<table border=\"1\" class=\"dataframe\">\n",
       "  <thead>\n",
       "    <tr style=\"text-align: right;\">\n",
       "      <th></th>\n",
       "      <th>A</th>\n",
       "      <th>AAL</th>\n",
       "      <th>AAP</th>\n",
       "      <th>AAPL</th>\n",
       "      <th>ABBV</th>\n",
       "      <th>ABC</th>\n",
       "      <th>ABT</th>\n",
       "      <th>ACN</th>\n",
       "      <th>ADBE</th>\n",
       "      <th>ADI</th>\n",
       "      <th>...</th>\n",
       "      <th>XLNX</th>\n",
       "      <th>XOM</th>\n",
       "      <th>XRAY</th>\n",
       "      <th>XRX</th>\n",
       "      <th>XYL</th>\n",
       "      <th>YHOO</th>\n",
       "      <th>YUM</th>\n",
       "      <th>ZBH</th>\n",
       "      <th>ZION</th>\n",
       "      <th>ZTS</th>\n",
       "    </tr>\n",
       "    <tr>\n",
       "      <th>date</th>\n",
       "      <th></th>\n",
       "      <th></th>\n",
       "      <th></th>\n",
       "      <th></th>\n",
       "      <th></th>\n",
       "      <th></th>\n",
       "      <th></th>\n",
       "      <th></th>\n",
       "      <th></th>\n",
       "      <th></th>\n",
       "      <th></th>\n",
       "      <th></th>\n",
       "      <th></th>\n",
       "      <th></th>\n",
       "      <th></th>\n",
       "      <th></th>\n",
       "      <th></th>\n",
       "      <th></th>\n",
       "      <th></th>\n",
       "      <th></th>\n",
       "      <th></th>\n",
       "    </tr>\n",
       "  </thead>\n",
       "  <tbody>\n",
       "    <tr>\n",
       "      <th>2013-04-01</th>\n",
       "      <td>29.277540</td>\n",
       "      <td>16.67</td>\n",
       "      <td>82.339996</td>\n",
       "      <td>61.272858</td>\n",
       "      <td>41.119999</td>\n",
       "      <td>51.639999</td>\n",
       "      <td>35.310001</td>\n",
       "      <td>75.849998</td>\n",
       "      <td>43.380001</td>\n",
       "      <td>45.410000</td>\n",
       "      <td>...</td>\n",
       "      <td>37.650002</td>\n",
       "      <td>90.769997</td>\n",
       "      <td>42.110001</td>\n",
       "      <td>8.60</td>\n",
       "      <td>27.250000</td>\n",
       "      <td>23.500000</td>\n",
       "      <td>51.164632</td>\n",
       "      <td>75.129997</td>\n",
       "      <td>24.780001</td>\n",
       "      <td>32.590000</td>\n",
       "    </tr>\n",
       "    <tr>\n",
       "      <th>2013-04-02</th>\n",
       "      <td>29.084406</td>\n",
       "      <td>15.74</td>\n",
       "      <td>82.830002</td>\n",
       "      <td>61.398571</td>\n",
       "      <td>40.709999</td>\n",
       "      <td>52.410000</td>\n",
       "      <td>36.119999</td>\n",
       "      <td>76.669998</td>\n",
       "      <td>43.849998</td>\n",
       "      <td>45.200001</td>\n",
       "      <td>...</td>\n",
       "      <td>37.279999</td>\n",
       "      <td>90.580002</td>\n",
       "      <td>41.619999</td>\n",
       "      <td>8.85</td>\n",
       "      <td>27.219999</td>\n",
       "      <td>23.780001</td>\n",
       "      <td>50.431344</td>\n",
       "      <td>75.330002</td>\n",
       "      <td>24.480000</td>\n",
       "      <td>32.549999</td>\n",
       "    </tr>\n",
       "    <tr>\n",
       "      <th>2013-04-03</th>\n",
       "      <td>28.984263</td>\n",
       "      <td>15.53</td>\n",
       "      <td>82.120003</td>\n",
       "      <td>61.712856</td>\n",
       "      <td>40.570000</td>\n",
       "      <td>51.689999</td>\n",
       "      <td>36.320000</td>\n",
       "      <td>76.599998</td>\n",
       "      <td>43.700001</td>\n",
       "      <td>44.060001</td>\n",
       "      <td>...</td>\n",
       "      <td>36.209999</td>\n",
       "      <td>89.930000</td>\n",
       "      <td>40.869999</td>\n",
       "      <td>8.56</td>\n",
       "      <td>27.120001</td>\n",
       "      <td>23.379999</td>\n",
       "      <td>48.554998</td>\n",
       "      <td>74.459999</td>\n",
       "      <td>23.879999</td>\n",
       "      <td>32.529999</td>\n",
       "    </tr>\n",
       "    <tr>\n",
       "      <th>2013-04-04</th>\n",
       "      <td>29.620888</td>\n",
       "      <td>15.69</td>\n",
       "      <td>82.199997</td>\n",
       "      <td>61.102856</td>\n",
       "      <td>41.599998</td>\n",
       "      <td>51.820000</td>\n",
       "      <td>36.650002</td>\n",
       "      <td>76.610001</td>\n",
       "      <td>44.209999</td>\n",
       "      <td>43.740002</td>\n",
       "      <td>...</td>\n",
       "      <td>36.810001</td>\n",
       "      <td>89.769997</td>\n",
       "      <td>41.230000</td>\n",
       "      <td>8.66</td>\n",
       "      <td>27.719999</td>\n",
       "      <td>23.520000</td>\n",
       "      <td>48.691590</td>\n",
       "      <td>75.250000</td>\n",
       "      <td>24.139999</td>\n",
       "      <td>31.840000</td>\n",
       "    </tr>\n",
       "    <tr>\n",
       "      <th>2013-04-05</th>\n",
       "      <td>29.713877</td>\n",
       "      <td>15.72</td>\n",
       "      <td>80.949997</td>\n",
       "      <td>60.457142</td>\n",
       "      <td>41.310001</td>\n",
       "      <td>52.080002</td>\n",
       "      <td>36.310001</td>\n",
       "      <td>76.250000</td>\n",
       "      <td>43.380001</td>\n",
       "      <td>43.610001</td>\n",
       "      <td>...</td>\n",
       "      <td>36.360001</td>\n",
       "      <td>89.010002</td>\n",
       "      <td>40.730000</td>\n",
       "      <td>8.63</td>\n",
       "      <td>27.600000</td>\n",
       "      <td>23.299999</td>\n",
       "      <td>48.145219</td>\n",
       "      <td>74.029999</td>\n",
       "      <td>23.879999</td>\n",
       "      <td>31.959999</td>\n",
       "    </tr>\n",
       "  </tbody>\n",
       "</table>\n",
       "<p>5 rows × 488 columns</p>\n",
       "</div>"
      ],
      "text/plain": [
       "                    A    AAL        AAP       AAPL       ABBV        ABC  \\\n",
       "date                                                                       \n",
       "2013-04-01  29.277540  16.67  82.339996  61.272858  41.119999  51.639999   \n",
       "2013-04-02  29.084406  15.74  82.830002  61.398571  40.709999  52.410000   \n",
       "2013-04-03  28.984263  15.53  82.120003  61.712856  40.570000  51.689999   \n",
       "2013-04-04  29.620888  15.69  82.199997  61.102856  41.599998  51.820000   \n",
       "2013-04-05  29.713877  15.72  80.949997  60.457142  41.310001  52.080002   \n",
       "\n",
       "                  ABT        ACN       ADBE        ADI    ...           XLNX  \\\n",
       "date                                                      ...                  \n",
       "2013-04-01  35.310001  75.849998  43.380001  45.410000    ...      37.650002   \n",
       "2013-04-02  36.119999  76.669998  43.849998  45.200001    ...      37.279999   \n",
       "2013-04-03  36.320000  76.599998  43.700001  44.060001    ...      36.209999   \n",
       "2013-04-04  36.650002  76.610001  44.209999  43.740002    ...      36.810001   \n",
       "2013-04-05  36.310001  76.250000  43.380001  43.610001    ...      36.360001   \n",
       "\n",
       "                  XOM       XRAY   XRX        XYL       YHOO        YUM  \\\n",
       "date                                                                      \n",
       "2013-04-01  90.769997  42.110001  8.60  27.250000  23.500000  51.164632   \n",
       "2013-04-02  90.580002  41.619999  8.85  27.219999  23.780001  50.431344   \n",
       "2013-04-03  89.930000  40.869999  8.56  27.120001  23.379999  48.554998   \n",
       "2013-04-04  89.769997  41.230000  8.66  27.719999  23.520000  48.691590   \n",
       "2013-04-05  89.010002  40.730000  8.63  27.600000  23.299999  48.145219   \n",
       "\n",
       "                  ZBH       ZION        ZTS  \n",
       "date                                         \n",
       "2013-04-01  75.129997  24.780001  32.590000  \n",
       "2013-04-02  75.330002  24.480000  32.549999  \n",
       "2013-04-03  74.459999  23.879999  32.529999  \n",
       "2013-04-04  75.250000  24.139999  31.840000  \n",
       "2013-04-05  74.029999  23.879999  31.959999  \n",
       "\n",
       "[5 rows x 488 columns]"
      ]
     },
     "execution_count": 22,
     "metadata": {},
     "output_type": "execute_result"
    }
   ],
   "source": [
    "sp13q1 = sp13q1.pivot(columns='symbol')\n",
    "sp13q1.columns = [col[1] for col in sp13q1.columns]\n",
    "sp13q1.fillna(method = 'ffill', inplace = True)\n",
    "sp13q1.fillna(method = 'bfill', inplace = True)\n",
    "sp13q1.head()"
   ]
  },
  {
   "cell_type": "code",
   "execution_count": null,
   "metadata": {
    "collapsed": true
   },
   "outputs": [],
   "source": []
  }
 ],
 "metadata": {
  "kernelspec": {
   "display_name": "Python 3",
   "language": "python",
   "name": "python3"
  },
  "language_info": {
   "codemirror_mode": {
    "name": "ipython",
    "version": 3
   },
   "file_extension": ".py",
   "mimetype": "text/x-python",
   "name": "python",
   "nbconvert_exporter": "python",
   "pygments_lexer": "ipython3",
   "version": "3.7.4"
  }
 },
 "nbformat": 4,
 "nbformat_minor": 2
}
